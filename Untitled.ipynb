{
 "cells": [
  {
   "cell_type": "code",
   "execution_count": 13,
   "metadata": {},
   "outputs": [],
   "source": [
    "# from selenium import webdriver\n",
    "# from bs4 import BeautifulSoup as bs\n",
    "import pandas as pd\n",
    "import requests\n",
    "import re\n",
    "\n",
    "# Import API key\n",
    "from keys import api_key"
   ]
  },
  {
   "cell_type": "code",
   "execution_count": 4,
   "metadata": {},
   "outputs": [],
   "source": [
    "# url = 'https://www.google.com/finance/quote/ge:NYSE'\n",
    "# urltoo = 'https://www.nyse.com/quote/XNYS:GE'\n",
    "# # browser = webdriver.Chrome(executable_path=r'../chromedriver.exe')\n",
    "# # browser.get(url)\n",
    "# # browser.find_element_by_partial_link_text('annual').click()\n",
    "# tryit = pd.read_html(urltoo)[0]"
   ]
  },
  {
   "cell_type": "code",
   "execution_count": 5,
   "metadata": {},
   "outputs": [],
   "source": [
    "# tryit"
   ]
  },
  {
   "cell_type": "code",
   "execution_count": 24,
   "metadata": {},
   "outputs": [],
   "source": [
    "# try for GE\n",
    "function = 'OVERVIEW'\n",
    "ticker = \"GE\"\n",
    "url = f'https://www.alphavantage.co/query?function={function}&symbol={ticker}&apikey=api_key'\n"
   ]
  },
  {
   "cell_type": "code",
   "execution_count": 25,
   "metadata": {},
   "outputs": [
    {
     "name": "stdout",
     "output_type": "stream",
     "text": [
      "{'Symbol': 'GE', 'AssetType': 'Common Stock', 'Name': 'General Electric Company', 'Description': \"General Electric Company operates as a high-tech industrial company worldwide. The company's Power segment offers heavy-duty and aeroderivative gas turbines for utilities, independent power producers, and industrial applications; maintenance, service, and upgrade solutions to plant assets and their operational lifecycle; steam power technology for fossil and nuclear applications, including boilers, generators, steam turbines, and air quality control systems; and advanced reactor technologies solutions comprising reactors, fuels, and support services for boiling water reactors. This segment also applies the science and systems of power conversion to provide motors, generators, automation, and control equipment; and drives for energy intensive industries, such as marine, oil and gas, mining, rail, metals, test systems, and water. Its Renewable Energy segment provides various solutions for its customers through combining onshore and offshore wind, blades, hydro, storage, solar, and grid solutions, as well as hybrid renewables and digital services offerings. The company's Aviation segment designs and produces commercial and military aircraft engines, integrated engine components, electric power, and mechanical aircraft systems; and provides aftermarket services. Its Healthcare segment develops, manufactures, markets, and services magnetic resonance, computed tomography, molecular imaging, x-ray and high-frequency soundwave systems, clinical monitoring and acute care systems, enterprise digital, artificial intelligence applications, consulting and command center, and complementary software and services; and researches, manufactures, and markets imaging agents. The company's Capital segment offers aviation leasing and financing, and working capital services; financial solutions and underwriting capabilities; and insurance and reinsurance for life and health risks, as well as annuity products. The company was founded in 1878 and is headquartered in Boston, Massachusetts.\", 'CIK': '40545', 'Exchange': 'NYSE', 'Currency': 'USD', 'Country': 'USA', 'Sector': 'Industrials', 'Industry': 'Specialty Industrial Machinery', 'Address': '5 Necco Street, Boston, MA, United States, 02210', 'FullTimeEmployees': '174000', 'FiscalYearEnd': 'December', 'LatestQuarter': '2021-03-31', 'MarketCapitalization': '117194850304', 'EBITDA': '5654000128', 'PERatio': 'None', 'PEGRatio': '10.64', 'BookValue': '3.825', 'DividendPerShare': '0.04', 'DividendYield': '0.003', 'EPS': '0.576', 'RevenuePerShareTTM': '8.818', 'ProfitMargin': '-0.0427', 'OperatingMarginTTM': '-0.0029', 'ReturnOnAssetsTTM': '-0.0006', 'ReturnOnEquityTTM': '-0.0135', 'RevenueTTM': '77248004096', 'GrossProfitTTM': '13514000000', 'DilutedEPSTTM': '-0.453', 'QuarterlyEarningsGrowthYOY': '3.951', 'QuarterlyRevenueGrowthYOY': '-0.122', 'AnalystTargetPrice': '14.46', 'TrailingPE': '0', 'ForwardPE': '53.1915', 'PriceToSalesRatioTTM': '1.5109', 'PriceToBookRatio': '3.4771', 'EVToRevenue': '1.9366', 'EVToEBITDA': '55.4268', 'Beta': '1.0738', '52WeekHigh': '14.415', '52WeekLow': '5.4538', '50DayMovingAverage': '13.2779', '200DayMovingAverage': '11.5209', 'SharesOutstanding': '8778640384', 'SharesFloat': '8753446300', 'SharesShort': '106875532', 'SharesShortPriorMonth': '106634885', 'ShortRatio': '1.76', 'ShortPercentOutstanding': '0.01', 'ShortPercentFloat': '0.0122', 'PercentInsiders': '0.243', 'PercentInstitutions': '63.625', 'ForwardAnnualDividendRate': '0.04', 'ForwardAnnualDividendYield': '0.003', 'PayoutRatio': '0.02', 'DividendDate': '2021-04-26', 'ExDividendDate': '2021-03-05', 'LastSplitFactor': '104:100', 'LastSplitDate': '2019-02-26'}\n"
     ]
    }
   ],
   "source": [
    "response = requests.get(url).json()\n",
    "print(response)\n"
   ]
  },
  {
   "cell_type": "code",
   "execution_count": 26,
   "metadata": {},
   "outputs": [
    {
     "data": {
      "text/plain": [
       "'Industrials'"
      ]
     },
     "execution_count": 26,
     "metadata": {},
     "output_type": "execute_result"
    }
   ],
   "source": [
    "response['Name']\n",
    "desc = response['Description']\n",
    "about = ' '.join(re.split(r'(?<=[.:])\\s', desc)[:2])\n",
    "response['Address'].split(\",\")[1].strip() + \", \" + response['Address'].split(\",\")[2].strip()\n",
    "response['Sector']"
   ]
  },
  {
   "cell_type": "code",
   "execution_count": 54,
   "metadata": {},
   "outputs": [
    {
     "name": "stdout",
     "output_type": "stream",
     "text": [
      "12.9900\n",
      "13.3500\n"
     ]
    }
   ],
   "source": [
    "function = 'TIME_SERIES_DAILY'\n",
    "url = f'https://www.alphavantage.co/query?function={function}&symbol={ticker}&apikey=api_key'\n",
    "response = requests.get(url).json()\n",
    "print(response['Time Series (Daily)']['2021-03-26']['4. close'])\n",
    "# This data will disappear after 100 days - when user gets card, must be saved\n",
    "from datetime import date, timedelta\n",
    "todays = print(response['Time Series (Daily)'][(date.today()-timedelta(days=1)).strftime(\"%Y-%m-%d\")]['4. close'])"
   ]
  },
  {
   "cell_type": "code",
   "execution_count": 53,
   "metadata": {},
   "outputs": [
    {
     "data": {
      "text/plain": [
       "'2021-05-10'"
      ]
     },
     "execution_count": 53,
     "metadata": {},
     "output_type": "execute_result"
    }
   ],
   "source": [
    "(date.today()-timedelta(days=1)).strftime(\"%Y-%m-%d\")"
   ]
  },
  {
   "cell_type": "code",
   "execution_count": null,
   "metadata": {},
   "outputs": [],
   "source": []
  }
 ],
 "metadata": {
  "kernelspec": {
   "display_name": "Python [conda env:.conda-PythonData]*",
   "language": "python",
   "name": "myenv"
  },
  "language_info": {
   "codemirror_mode": {
    "name": "ipython",
    "version": 3
   },
   "file_extension": ".py",
   "mimetype": "text/x-python",
   "name": "python",
   "nbconvert_exporter": "python",
   "pygments_lexer": "ipython3",
   "version": "3.8.5"
  }
 },
 "nbformat": 4,
 "nbformat_minor": 4
}
